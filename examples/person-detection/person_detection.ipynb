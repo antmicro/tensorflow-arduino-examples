{
 "cells": [
  {
   "cell_type": "markdown",
   "id": "worse-source",
   "metadata": {
    "cell_marker": "\"\"\""
   },
   "source": [
    "![Renode](https://antmicro.com/OpenSource/assets/images/projects/renode.png)"
   ]
  },
  {
   "cell_type": "markdown",
   "id": "competent-outline",
   "metadata": {
    "cell_marker": "\"\"\""
   },
   "source": [
    "## Install requirements"
   ]
  },
  {
   "cell_type": "code",
   "execution_count": null,
   "id": "thirty-final",
   "metadata": {},
   "outputs": [],
   "source": [
    "!pip install -q git+https://github.com/antmicro/pyrenode.git git+https://github.com/antmicro/renode-colab-tools.git Pillow\n",
    "!mkdir -p renode && cd renode && wget https://dl.antmicro.com/projects/renode/builds/renode-latest.linux-portable.tar.gz && tar -xzf renode-latest.linux-portable.tar.gz --strip 1\n",
    "!pip install -q -r renode/tests/requirements.txt\n",
    "\n",
    "import os\n",
    "from renode_colab_tools import *\n",
    "os.environ['PATH'] = os.getcwd()+\"/renode:\"+os.environ['PATH']"
   ]
  },
  {
   "cell_type": "code",
   "execution_count": null,
   "id": "threatened-sunset",
   "metadata": {},
   "outputs": [],
   "source": [
    "!mkdir -p binaries/person_detection && cd binaries/person_detection && wget https://github.com/antmicro/tensorflow-arduino-examples-binaries/raw/master/person_detection/person_detection.ino.elf # fetch prebuilt binaries"
   ]
  },
  {
   "cell_type": "markdown",
   "id": "deluxe-approval",
   "metadata": {
    "cell_marker": "\"\"\",\"\"\""
   },
   "source": [
    "## Take a photo"
   ]
  },
  {
   "cell_type": "code",
   "execution_count": null,
   "id": "ruled-outdoors",
   "metadata": {},
   "outputs": [],
   "source": [
    "from IPython.display import Image\n",
    "photo = take_photo()\n",
    "display(Image(photo))"
   ]
  },
  {
   "cell_type": "markdown",
   "id": "nearby-unknown",
   "metadata": {
    "cell_marker": "\"\"\",\"\"\""
   },
   "source": [
    "## Convert the photo, required size < 4096 bytes"
   ]
  },
  {
   "cell_type": "code",
   "execution_count": null,
   "id": "careful-revelation",
   "metadata": {},
   "outputs": [],
   "source": [
    "from PIL import Image\n",
    "image = Image.open('photo.jpg')\n",
    "image.thumbnail((120, 120))\n",
    "image.save('photo.jpg')"
   ]
  },
  {
   "cell_type": "markdown",
   "id": "written-vulnerability",
   "metadata": {
    "cell_marker": "\"\"\",\"\"\""
   },
   "source": [
    "## Run a person-detection example with a captured photo in Renode"
   ]
  },
  {
   "cell_type": "code",
   "execution_count": null,
   "id": "surprised-rendering",
   "metadata": {},
   "outputs": [],
   "source": [
    "import time\n",
    "from pyrenode import *\n",
    "shutdown_renode()\n",
    "connect_renode() # this sets up a log file, and clears the simulation (just in case)\n",
    "tell_renode('using sysbus')\n",
    "tell_renode('mach create')\n",
    "tell_renode('machine LoadPlatformDescription @platforms/boards/arduino_nano_33_ble.repl')\n",
    "tell_renode('sysbus LoadELF @binaries/person_detection/person_detection.ino.elf')\n",
    "\n",
    "tell_renode('uart0 CreateFileBackend @uart.dump true')\n",
    "tell_renode('logLevel 3')\n",
    "tell_renode('spi2.camera ImageSource @photo.jpg')\n",
    "tell_renode('machine EnableProfiler \"metrics.dump\"')\n",
    "tell_renode('s')\n",
    "time.sleep(5) #waits for creating uart.dump\n",
    "!timeout 60 tail -c+2 -f renode/uart.dump | sed '/^Person score: .*$/ q'\n",
    "tell_renode('q')\n",
    "expect_cli('Renode is quitting')\n",
    "shutdown_renode()"
   ]
  },
  {
   "cell_type": "markdown",
   "id": "equivalent-finding",
   "metadata": {
    "cell_marker": "\"\"\",\"\"\""
   },
   "source": [
    "## Renode metrics analysis"
   ]
  },
  {
   "cell_type": "code",
   "execution_count": null,
   "id": "capital-serbia",
   "metadata": {},
   "outputs": [],
   "source": [
    "from renode.tools.metrics_analyzer.metrics_parser import MetricsParser\n",
    "init_notebook_mode(connected=False)\n",
    "parser = MetricsParser('renode/metrics.dump')"
   ]
  },
  {
   "cell_type": "code",
   "execution_count": null,
   "id": "entertaining-internet",
   "metadata": {},
   "outputs": [],
   "source": [
    "configure_plotly_browser_state()\n",
    "show_executed_instructions(parser)"
   ]
  },
  {
   "cell_type": "code",
   "execution_count": null,
   "id": "cultural-draft",
   "metadata": {},
   "outputs": [],
   "source": [
    "configure_plotly_browser_state()\n",
    "show_memory_access(parser)"
   ]
  },
  {
   "cell_type": "code",
   "execution_count": null,
   "id": "different-melbourne",
   "metadata": {},
   "outputs": [],
   "source": [
    "configure_plotly_browser_state()\n",
    "show_exceptions(parser)"
   ]
  }
 ],
 "metadata": {
  "jupytext": {
   "cell_metadata_filter": "-all",
   "main_language": "python",
   "notebook_metadata_filter": "-all"
  }
 },
 "nbformat": 4,
 "nbformat_minor": 5
}
