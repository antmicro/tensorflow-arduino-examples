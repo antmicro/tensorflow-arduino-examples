{
 "cells": [
  {
   "cell_type": "markdown",
   "id": "e1f4b84b",
   "metadata": {
    "cell_marker": "\"\"\""
   },
   "source": [
    "![Renode](https://antmicro.com/OpenSource/assets/images/projects/renode.png)\n",
    "<table align=\"left\">\n",
    "  <td>\n",
    "    <a target=\"_blank\" href=\"https://colab.research.google.com/github/antmicro/tensorflow-arduino-examples/blob/master/examples/person-detection/person_detection.ipynb\"><img src=\"https://www.tensorflow.org/images/colab_logo_32px.png\" />Run in Google Colab</a>\n",
    "  </td>\n",
    "  <td>\n",
    "    <a target=\"_blank\" href=\"https://github.com/antmicro/tensorflow-arduino-examples/blob/master/examples/person-detection/person_detection.ipynb\"><img src=\"https://www.tensorflow.org/images/GitHub-Mark-32px.png\" />View ipynb on GitHub</a>\n",
    "  </td>\n",
    "  <td>\n",
    "    <a target=\"_blank\" href=\"https://github.com/antmicro/tensorflow-arduino-examples/blob/master/examples/person-detection/person_detection.py\"><img src=\"https://www.tensorflow.org/images/GitHub-Mark-32px.png\" />View Python source on GitHub</a>\n",
    "  </td>\n",
    "</table>"
   ]
  },
  {
   "cell_type": "markdown",
   "id": "cb4b44a5",
   "metadata": {
    "cell_marker": "\"\"\""
   },
   "source": [
    "## Install requirements"
   ]
  },
  {
   "cell_type": "code",
   "execution_count": null,
   "id": "f05e9b36",
   "metadata": {},
   "outputs": [],
   "source": [
    "!pip install -q git+https://github.com/antmicro/pyrenode.git git+https://github.com/antmicro/renode-colab-tools.git Pillow\n",
    "!mkdir -p renode && cd renode && wget https://dl.antmicro.com/projects/renode/builds/renode-latest.linux-portable.tar.gz && tar -xzf renode-latest.linux-portable.tar.gz --strip 1\n",
    "!pip install -q -r renode/tests/requirements.txt\n",
    "!wget -O default.jpg https://dl.antmicro.com/projects/renode/images/person_image_0.jpg-s_3853-7f2125e28423fa117a1079d84785b17c9b70f62d #download default photo\n",
    "\n",
    "import os\n",
    "from renode_colab_tools import image, metrics\n",
    "os.environ['PATH'] = os.getcwd()+\"/renode:\"+os.environ['PATH']\n",
    "os.environ['TENSORFLOW_PATH'] = os.getcwd()+\"/tensorflow-arduino-examples/tensorflow\""
   ]
  },
  {
   "cell_type": "code",
   "execution_count": null,
   "id": "1dcb2a73",
   "metadata": {},
   "outputs": [],
   "source": [
    "!mkdir -p binaries/person_detection && cd binaries/person_detection && wget https://github.com/antmicro/tensorflow-arduino-examples-binaries/raw/master/person_detection/person_detection.ino.elf # fetch prebuilt binaries"
   ]
  },
  {
   "cell_type": "markdown",
   "id": "0dc67f46",
   "metadata": {
    "cell_marker": "\"\"\""
   },
   "source": [
    "## Take a photo\n",
    "To change the selected option, rerun the cell"
   ]
  },
  {
   "cell_type": "code",
   "execution_count": null,
   "id": "02549a31",
   "metadata": {
    "lines_to_next_cell": 0
   },
   "outputs": [],
   "source": [
    "image.image_options()"
   ]
  },
  {
   "cell_type": "markdown",
   "id": "f16b2620",
   "metadata": {
    "cell_marker": "\"\"\",\"\"\""
   },
   "source": [
    "## Convert the photo, required size < 4096 bytes"
   ]
  },
  {
   "cell_type": "code",
   "execution_count": null,
   "id": "4633c6d1",
   "metadata": {},
   "outputs": [],
   "source": [
    "from PIL import Image as pil\n",
    "from IPython.display import Image, display\n",
    "photo = pil.open('photo.jpg')\n",
    "photo.thumbnail((120, 120))\n",
    "photo.save('photo.jpg')\n",
    "display(Image('photo.jpg'))"
   ]
  },
  {
   "cell_type": "markdown",
   "id": "1cb65e43",
   "metadata": {
    "cell_marker": "\"\"\",\"\"\""
   },
   "source": [
    "## Run a person-detection example with a captured photo in Renode"
   ]
  },
  {
   "cell_type": "code",
   "execution_count": null,
   "id": "aabfeaeb",
   "metadata": {},
   "outputs": [],
   "source": [
    "import time\n",
    "from pyrenode import *\n",
    "shutdown_renode()\n",
    "connect_renode() # this sets up a log file, and clears the simulation (just in case)\n",
    "tell_renode('using sysbus')\n",
    "tell_renode('mach create')\n",
    "tell_renode('machine LoadPlatformDescription @platforms/boards/arduino_nano_33_ble.repl')\n",
    "tell_renode('sysbus LoadELF @binaries/person_detection/person_detection.ino.elf')\n",
    "\n",
    "tell_renode('uart0 CreateFileBackend @uart.dump true')\n",
    "tell_renode('logLevel 3')\n",
    "tell_renode('spi2.camera ImageSource @photo.jpg')\n",
    "tell_renode('machine EnableProfiler \"metrics.dump\"')\n",
    "tell_renode('s')\n",
    "time.sleep(5) #waits for creating uart.dump\n",
    "!timeout 120 tail -c+2 -f renode/uart.dump | sed '/^Person score: .*$/ q'\n",
    "tell_renode('q')\n",
    "expect_cli('Renode is quitting')\n",
    "time.sleep(1) #wait not to kill Renode forcefully\n",
    "shutdown_renode()"
   ]
  },
  {
   "cell_type": "markdown",
   "id": "c549655b",
   "metadata": {
    "cell_marker": "\"\"\",\"\"\""
   },
   "source": [
    "## Renode metrics analysis"
   ]
  },
  {
   "cell_type": "code",
   "execution_count": null,
   "id": "791490fd",
   "metadata": {},
   "outputs": [],
   "source": [
    "from renode.tools.metrics_analyzer.metrics_parser import MetricsParser\n",
    "metrics.init_notebook_mode(connected=False)\n",
    "parser = MetricsParser('renode/metrics.dump')"
   ]
  },
  {
   "cell_type": "code",
   "execution_count": null,
   "id": "f43a7ad7",
   "metadata": {},
   "outputs": [],
   "source": [
    "metrics.configure_plotly_browser_state()\n",
    "metrics.show_executed_instructions(parser)"
   ]
  },
  {
   "cell_type": "code",
   "execution_count": null,
   "id": "9417b2cf",
   "metadata": {},
   "outputs": [],
   "source": [
    "metrics.configure_plotly_browser_state()\n",
    "metrics.show_memory_access(parser)"
   ]
  },
  {
   "cell_type": "code",
   "execution_count": null,
   "id": "2627f2ac",
   "metadata": {},
   "outputs": [],
   "source": [
    "metrics.configure_plotly_browser_state()\n",
    "metrics.show_exceptions(parser)"
   ]
  },
  {
   "cell_type": "code",
   "execution_count": null,
   "id": "51e49aa1",
   "metadata": {},
   "outputs": [],
   "source": [
    "metrics.configure_plotly_browser_state()\n",
    "metrics.show_peripheral_access(parser)"
   ]
  }
 ],
 "metadata": {
  "jupytext": {
   "cell_metadata_filter": "-all",
   "main_language": "python",
   "notebook_metadata_filter": "-all"
  }
 },
 "nbformat": 4,
 "nbformat_minor": 5
}
