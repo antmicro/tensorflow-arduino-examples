{
 "cells": [
  {
   "cell_type": "markdown",
   "id": "applied-concern",
   "metadata": {
    "cell_marker": "\"\"\""
   },
   "source": [
    "![Renode](https://antmicro.com/OpenSource/assets/images/projects/renode.png)"
   ]
  },
  {
   "cell_type": "markdown",
   "id": "according-olive",
   "metadata": {
    "cell_marker": "\"\"\""
   },
   "source": [
    "## Install requirements"
   ]
  },
  {
   "cell_type": "code",
   "execution_count": null,
   "id": "pending-authority",
   "metadata": {},
   "outputs": [],
   "source": [
    "!pip install -q git+https://github.com/antmicro/pyrenode.git git+https://github.com/antmicro/renode-colab-tools.git Pillow\n",
    "!mkdir -p renode && cd renode && wget https://dl.antmicro.com/projects/renode/builds/renode-latest.linux-portable.tar.gz && tar -xzf renode-latest.linux-portable.tar.gz --strip 1\n",
    "!pip install -q -r renode/tests/requirements.txt\n",
    "\n",
    "import os\n",
    "from renode_colab_tools import image, metrics\n",
    "os.environ['PATH'] = os.getcwd()+\"/renode:\"+os.environ['PATH']"
   ]
  },
  {
   "cell_type": "code",
   "execution_count": null,
   "id": "related-stadium",
   "metadata": {
    "lines_to_next_cell": 0
   },
   "outputs": [],
   "source": [
    "!curl -fsSL https://raw.githubusercontent.com/arduino/arduino-cli/master/install.sh | sh\n",
    "!bin/arduino-cli core install arduino:mbed\n",
    "!bin/arduino-cli lib install JPEGDecoder@1.8.0\n",
    "!git clone --quiet https://github.com/ArduCAM/Arduino.git && cp -r Arduino/ArduCAM $HOME/Arduino/libraries\n",
    "!git clone --quiet https://github.com/antmicro/tensorflow-arduino-examples.git && cp -r tensorflow-arduino-examples/tensorflow $HOME/Arduino/libraries\n",
    "!sed -i'' '/#define DEBUG_SERIAL_OBJECT/s/(Serial)/(Serial1)/' $HOME/Arduino/libraries/tensorflow/src/tensorflow/lite/micro/arduino/debug_log.cpp\n",
    "! > $HOME/Arduino/libraries/JPEGDecoder/src/User_Config.h\n",
    "!bin/arduino-cli compile -b arduino:mbed:nano33ble --output-dir binaries/person_detection $HOME/Arduino/libraries/tensorflow/examples/person_detection"
   ]
  },
  {
   "cell_type": "markdown",
   "id": "novel-placement",
   "metadata": {
    "cell_marker": "\"\"\",\"\"\""
   },
   "source": [
    "## Take a photo"
   ]
  },
  {
   "cell_type": "code",
   "execution_count": null,
   "id": "common-cycle",
   "metadata": {},
   "outputs": [],
   "source": [
    "from IPython.display import Image\n",
    "photo = image.take_photo()\n",
    "display(Image(photo))"
   ]
  },
  {
   "cell_type": "markdown",
   "id": "public-myanmar",
   "metadata": {
    "cell_marker": "\"\"\",\"\"\""
   },
   "source": [
    "## Convert the photo, required size < 4096 bytes"
   ]
  },
  {
   "cell_type": "code",
   "execution_count": null,
   "id": "dirty-tribune",
   "metadata": {},
   "outputs": [],
   "source": [
    "from PIL import Image\n",
    "photo = Image.open('photo.jpg')\n",
    "photo.thumbnail((120, 120))\n",
    "photo.save('photo.jpg')"
   ]
  },
  {
   "cell_type": "markdown",
   "id": "literary-instrument",
   "metadata": {
    "cell_marker": "\"\"\",\"\"\""
   },
   "source": [
    "## Run a person-detection example with a captured photo in Renode"
   ]
  },
  {
   "cell_type": "code",
   "execution_count": null,
   "id": "offensive-catering",
   "metadata": {},
   "outputs": [],
   "source": [
    "import time\n",
    "from pyrenode import *\n",
    "shutdown_renode()\n",
    "connect_renode() # this sets up a log file, and clears the simulation (just in case)\n",
    "tell_renode('using sysbus')\n",
    "tell_renode('mach create')\n",
    "tell_renode('machine LoadPlatformDescription @platforms/boards/arduino_nano_33_ble.repl')\n",
    "tell_renode('sysbus LoadELF @binaries/person_detection/person_detection.ino.elf')\n",
    "\n",
    "tell_renode('uart0 CreateFileBackend @uart.dump true')\n",
    "tell_renode('logLevel 3')\n",
    "tell_renode('spi2.camera ImageSource @photo.jpg')\n",
    "tell_renode('machine EnableProfiler \"metrics.dump\"')\n",
    "tell_renode('s')\n",
    "time.sleep(5) #waits for creating uart.dump\n",
    "!timeout 60 tail -c+2 -f renode/uart.dump | sed '/^Person score: .*$/ q'\n",
    "tell_renode('q')\n",
    "expect_cli('Renode is quitting')\n",
    "shutdown_renode()"
   ]
  },
  {
   "cell_type": "markdown",
   "id": "suspended-threshold",
   "metadata": {
    "cell_marker": "\"\"\",\"\"\""
   },
   "source": [
    "## Renode metrics analysis"
   ]
  },
  {
   "cell_type": "code",
   "execution_count": null,
   "id": "macro-palestinian",
   "metadata": {},
   "outputs": [],
   "source": [
    "from renode.tools.metrics_analyzer.metrics_parser import MetricsParser\n",
    "metrics.init_notebook_mode(connected=False)\n",
    "parser = MetricsParser('renode/metrics.dump')"
   ]
  },
  {
   "cell_type": "code",
   "execution_count": null,
   "id": "united-ancient",
   "metadata": {},
   "outputs": [],
   "source": [
    "metrics.configure_plotly_browser_state()\n",
    "metrics.show_executed_instructions(parser)"
   ]
  },
  {
   "cell_type": "code",
   "execution_count": null,
   "id": "loving-ecuador",
   "metadata": {},
   "outputs": [],
   "source": [
    "metrics.configure_plotly_browser_state()\n",
    "metrics.show_memory_access(parser)"
   ]
  },
  {
   "cell_type": "code",
   "execution_count": null,
   "id": "inappropriate-lincoln",
   "metadata": {},
   "outputs": [],
   "source": [
    "metrics.configure_plotly_browser_state()\n",
    "metrics.show_exceptions(parser)"
   ]
  }
 ],
 "metadata": {
  "jupytext": {
   "cell_metadata_filter": "-all",
   "main_language": "python",
   "notebook_metadata_filter": "-all"
  }
 },
 "nbformat": 4,
 "nbformat_minor": 5
}
