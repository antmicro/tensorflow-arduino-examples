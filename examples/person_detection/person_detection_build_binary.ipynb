{
 "cells": [
  {
   "cell_type": "markdown",
   "id": "976e4df1",
   "metadata": {
    "cell_marker": "\"\"\""
   },
   "source": [
    "![Renode](https://dl.antmicro.com/projects/renode/renode.png)\n",
    "<table align=\"left\">\n",
    "  <td>\n",
    "    <a target=\"_blank\" href=\"https://colab.research.google.com/github/antmicro/tensorflow-arduino-examples/blob/master/examples/person_detection/person_detection_build_binary.ipynb\"><img src=\"https://raw.githubusercontent.com/antmicro/tensorflow-arduino-examples/master/examples/.static/view-in-colab.png\" />Run in Google Colab</a>\n",
    "  </td>\n",
    "  <td>\n",
    "    <a target=\"_blank\" href=\"https://github.com/antmicro/tensorflow-arduino-examples/blob/master/examples/person_detection/person_detection_build_binary.ipynb\"><img src=\"https://raw.githubusercontent.com/antmicro/tensorflow-arduino-examples/master/examples/.static/view-ipynb.png\" />View ipynb on GitHub</a>\n",
    "  </td>\n",
    "  <td>\n",
    "    <a target=\"_blank\" href=\"https://github.com/antmicro/tensorflow-arduino-examples/blob/master/examples/person_detection/person_detection.py\"><img src=\"https://raw.githubusercontent.com/antmicro/tensorflow-arduino-examples/master/examples/.static/view-source.png\" />View Python source on GitHub</a>\n",
    "  </td>\n",
    "</table>"
   ]
  },
  {
   "cell_type": "markdown",
   "id": "780e252c",
   "metadata": {
    "cell_marker": "\"\"\""
   },
   "source": [
    "## Install requirements"
   ]
  },
  {
   "cell_type": "code",
   "execution_count": null,
   "id": "9e761f1e",
   "metadata": {},
   "outputs": [],
   "source": [
    "!pip install -q git+https://github.com/antmicro/pyrenode.git git+https://github.com/antmicro/renode-colab-tools.git Pillow\n",
    "!mkdir -p renode && cd renode && wget https://dl.antmicro.com/projects/renode/builds/renode-latest.linux-portable.tar.gz && tar -xzf renode-latest.linux-portable.tar.gz --strip 1\n",
    "!pip install -q -r renode/tests/requirements.txt\n",
    "!wget -O default.jpg https://dl.antmicro.com/projects/renode/images/person_image_0.jpg-s_3853-7f2125e28423fa117a1079d84785b17c9b70f62d #download default photo\n",
    "\n",
    "import os\n",
    "from renode_colab_tools import image, metrics\n",
    "os.environ['PATH'] = os.getcwd()+\"/renode:\"+os.environ['PATH']\n",
    "os.environ['TENSORFLOW_PATH'] = os.getcwd()+\"/tensorflow-arduino-examples/tensorflow\""
   ]
  },
  {
   "cell_type": "code",
   "execution_count": null,
   "id": "d768392c",
   "metadata": {},
   "outputs": [],
   "source": [
    "!git clone https://github.com/antmicro/tensorflow-arduino-examples.git \n",
    "!"
   ]
  },
  {
   "cell_type": "markdown",
   "id": "37ce3296",
   "metadata": {
    "cell_marker": "\"\"\""
   },
   "source": [
    "## Take a photo\n",
    "To change the selected option, rerun the cell"
   ]
  },
  {
   "cell_type": "code",
   "execution_count": null,
   "id": "e2f3b97c",
   "metadata": {
    "lines_to_next_cell": 0
   },
   "outputs": [],
   "source": [
    "image.image_options()"
   ]
  },
  {
   "cell_type": "markdown",
   "id": "231e68fc",
   "metadata": {},
   "source": [
    "## Convert the photo, required size < 4096 bytes"
   ]
  },
  {
   "cell_type": "code",
   "execution_count": null,
   "id": "a82b0f3b",
   "metadata": {},
   "outputs": [],
   "source": [
    "from PIL import Image as pil\n",
    "from IPython.display import Image, display\n",
    "photo = pil.open('photo.jpg')\n",
    "photo.thumbnail((120, 120))\n",
    "photo.save('photo.jpg')\n",
    "display(Image('photo.jpg'))"
   ]
  },
  {
   "cell_type": "markdown",
   "id": "0d45b10a",
   "metadata": {},
   "source": [
    "## Run a person_detection example with a captured photo in Renode"
   ]
  },
  {
   "cell_type": "code",
   "execution_count": null,
   "id": "f60be0b3",
   "metadata": {},
   "outputs": [],
   "source": [
    "import time\n",
    "from pyrenode import *\n",
    "shutdown_renode()\n",
    "connect_renode() # this sets up a log file, and clears the simulation (just in case)\n",
    "tell_renode('using sysbus')\n",
    "tell_renode('mach create')\n",
    "tell_renode('machine LoadPlatformDescription @platforms/boards/arduino_nano_33_ble.repl')\n",
    "tell_renode('sysbus LoadELF @binaries/person_detection/person_detection.ino.elf')\n",
    "\n",
    "tell_renode('uart0 CreateFileBackend @uart.dump true')\n",
    "tell_renode('logLevel 3')\n",
    "tell_renode('spi2.camera ImageSource @photo.jpg')\n",
    "tell_renode('machine EnableProfiler \"metrics.dump\"')\n",
    "tell_renode('s')\n",
    "time.sleep(5) #waits for creating uart.dump\n",
    "!timeout 120 tail -c+2 -f renode/uart.dump | sed '/^Person score: .*$/ q'\n",
    "tell_renode('q')\n",
    "expect_cli('Renode is quitting')\n",
    "time.sleep(1) #wait not to kill Renode forcefully\n",
    "shutdown_renode()"
   ]
  },
  {
   "cell_type": "markdown",
   "id": "61643b10",
   "metadata": {},
   "source": [
    "## Renode metrics analysis"
   ]
  },
  {
   "cell_type": "code",
   "execution_count": null,
   "id": "e29a30c0",
   "metadata": {},
   "outputs": [],
   "source": [
    "from renode.tools.metrics_analyzer.metrics_parser import MetricsParser\n",
    "metrics.init_notebook_mode(connected=False)\n",
    "parser = MetricsParser('renode/metrics.dump')"
   ]
  },
  {
   "cell_type": "code",
   "execution_count": null,
   "id": "8cd2918b",
   "metadata": {},
   "outputs": [],
   "source": [
    "metrics.configure_plotly_browser_state()\n",
    "metrics.show_executed_instructions(parser)"
   ]
  },
  {
   "cell_type": "code",
   "execution_count": null,
   "id": "18879c3b",
   "metadata": {},
   "outputs": [],
   "source": [
    "metrics.configure_plotly_browser_state()\n",
    "metrics.show_memory_access(parser)"
   ]
  },
  {
   "cell_type": "code",
   "execution_count": null,
   "id": "facaf57d",
   "metadata": {},
   "outputs": [],
   "source": [
    "metrics.configure_plotly_browser_state()\n",
    "metrics.show_exceptions(parser)"
   ]
  },
  {
   "cell_type": "code",
   "execution_count": null,
   "id": "51f65929",
   "metadata": {},
   "outputs": [],
   "source": [
    "metrics.configure_plotly_browser_state()\n",
    "metrics.show_peripheral_access(parser)"
   ]
  }
 ],
 "metadata": {
  "jupytext": {
   "cell_metadata_filter": "-all",
   "main_language": "python",
   "notebook_metadata_filter": "-all"
  }
 },
 "nbformat": 4,
 "nbformat_minor": 5
}
