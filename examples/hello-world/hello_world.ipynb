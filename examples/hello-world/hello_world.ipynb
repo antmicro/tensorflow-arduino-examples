{
 "cells": [
  {
   "cell_type": "markdown",
   "id": "regulated-filter",
   "metadata": {
    "cell_marker": "\"\"\""
   },
   "source": [
    "![Renode](https://antmicro.com/OpenSource/assets/images/projects/renode.png)"
   ]
  },
  {
   "cell_type": "markdown",
   "id": "moving-rates",
   "metadata": {
    "cell_marker": "\"\"\""
   },
   "source": [
    "## Install requirements"
   ]
  },
  {
   "cell_type": "code",
   "execution_count": null,
   "id": "breathing-vinyl",
   "metadata": {},
   "outputs": [],
   "source": [
    "!pip install -q git+https://github.com/antmicro/pyrenode.git git+https://github.com/antmicro/renode-colab-tools.git\n",
    "!mkdir -p renode && cd renode && wget https://dl.antmicro.com/projects/renode/builds/renode-latest.linux-portable.tar.gz && tar -xzf renode-latest.linux-portable.tar.gz --strip 1\n",
    "!pip install -q -r renode/tests/requirements.txt\n",
    "\n",
    "import os\n",
    "from renode_colab_tools import metrics\n",
    "os.environ['PATH'] = os.getcwd()+\"/renode:\"+os.environ['PATH']"
   ]
  },
  {
   "cell_type": "code",
   "execution_count": null,
   "id": "loving-traffic",
   "metadata": {},
   "outputs": [],
   "source": [
    "!mkdir -p binaries/hello_world && cd binaries/hello_world && wget https://github.com/antmicro/tensorflow-arduino-examples-binaries/raw/master/hello_world/hello_world.ino.elf # fetch prebuilt binaries"
   ]
  },
  {
   "cell_type": "markdown",
   "id": "dramatic-pearl",
   "metadata": {
    "cell_marker": "\"\"\",\"\"\""
   },
   "source": [
    "## Run the hello-world example in Renode"
   ]
  },
  {
   "cell_type": "code",
   "execution_count": null,
   "id": "divided-driver",
   "metadata": {},
   "outputs": [],
   "source": [
    "import time\n",
    "from pyrenode import *\n",
    "shutdown_renode()\n",
    "connect_renode() # this sets up a log file, and clears the simulation (just in case)\n",
    "tell_renode('using sysbus')\n",
    "tell_renode('mach create')\n",
    "tell_renode('machine LoadPlatformDescription @platforms/boards/arduino_nano_33_ble.repl')\n",
    "tell_renode('sysbus LoadELF @binaries/hello_world/hello_world.ino.elf')\n",
    "\n",
    "tell_renode('uart0 CreateFileBackend @uart.dump true')\n",
    "tell_renode('logLevel 3')\n",
    "tell_renode('machine EnableProfiler @metrics.dump')\n",
    "tell_renode('s')\n",
    "while not os.path.exists('renode/uart.dump'):\n",
    "  time.sleep(1) #waits for creating uart.dump\n",
    "!timeout 60 tail -c+2 -f renode/uart.dump | sed '/^1$/ q'\n",
    "tell_renode('q')\n",
    "expect_cli('Renode is quitting')\n",
    "shutdown_renode()"
   ]
  },
  {
   "cell_type": "markdown",
   "id": "furnished-frost",
   "metadata": {
    "cell_marker": "\"\"\",\"\"\""
   },
   "source": [
    "## Renode metrics analysis"
   ]
  },
  {
   "cell_type": "code",
   "execution_count": null,
   "id": "talented-legend",
   "metadata": {},
   "outputs": [],
   "source": [
    "from renode.tools.metrics_analyzer.metrics_parser import MetricsParser\n",
    "metrics.init_notebook_mode(connected=False)\n",
    "parser = MetricsParser('renode/metrics.dump')"
   ]
  },
  {
   "cell_type": "code",
   "execution_count": null,
   "id": "viral-spiritual",
   "metadata": {},
   "outputs": [],
   "source": [
    "metrics.configure_plotly_browser_state()\n",
    "metrics.show_executed_instructions(parser)"
   ]
  },
  {
   "cell_type": "code",
   "execution_count": null,
   "id": "secret-examination",
   "metadata": {},
   "outputs": [],
   "source": [
    "metrics.configure_plotly_browser_state()\n",
    "metrics.show_memory_access(parser)"
   ]
  },
  {
   "cell_type": "code",
   "execution_count": null,
   "id": "accepted-judge",
   "metadata": {},
   "outputs": [],
   "source": [
    "metrics.configure_plotly_browser_state()\n",
    "metrics.show_exceptions(parser)"
   ]
  },
  {
   "cell_type": "code",
   "execution_count": null,
   "id": "stuffed-minimum",
   "metadata": {},
   "outputs": [],
   "source": [
    "metrics.configure_plotly_browser_state()\n",
    "metrics.show_peripheral_access(parser)"
   ]
  }
 ],
 "metadata": {
  "jupytext": {
   "cell_metadata_filter": "-all",
   "main_language": "python",
   "notebook_metadata_filter": "-all"
  }
 },
 "nbformat": 4,
 "nbformat_minor": 5
}
