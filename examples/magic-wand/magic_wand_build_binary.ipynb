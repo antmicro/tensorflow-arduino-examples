{
 "cells": [
  {
   "cell_type": "markdown",
   "metadata": {
    "cell_marker": "\"\"\""
   },
   "source": [
    "![Renode](https://antmicro.com/OpenSource/assets/images/projects/renode.png)"
   ]
  },
  {
   "cell_type": "markdown",
   "metadata": {
    "cell_marker": "\"\"\""
   },
   "source": [
    "## Install requirements"
   ]
  },
  {
   "cell_type": "code",
   "execution_count": null,
   "metadata": {},
   "outputs": [],
   "source": [
    "!pip install -q git+https://github.com/antmicro/pyrenode.git git+https://github.com/antmicro/renode-colab-tools.git\n",
    "!mkdir -p renode && cd renode && wget http://dl.antmicro.com/projects/renode/builds/renode-1.11+colab.linux-portable.tar.gz &&  tar -xzf renode-1.11+colab.linux-portable.tar.gz --strip 1\n",
    "!pip install -q -r renode/tests/requirements.txt\n",
    "!git clone --quiet https://github.com/antmicro/tensorflow-arduino-examples.git\n",
    "\n",
    "import os\n",
    "from renode_colab_tools import *\n",
    "os.environ['PATH'] = os.getcwd()+\"/renode:\"+os.environ['PATH']"
   ]
  },
  {
   "cell_type": "code",
   "execution_count": null,
   "metadata": {
    "lines_to_next_cell": 0
   },
   "outputs": [],
   "source": [
    "!curl -fsSL https://raw.githubusercontent.com/arduino/arduino-cli/master/install.sh | sh\n",
    "!bin/arduino-cli core install arduino:mbed\n",
    "!bin/arduino-cli lib install Arduino_LSM9DS1@1.1.0\n",
    "!git clone --quiet https://github.com/antmicro/tensorflow-arduino-examples.git && cp -r tensorflow-arduino-examples/tensorflow $HOME/Arduino/libraries\n",
    "!sed -i'' '/#define DEBUG_SERIAL_OBJECT/s/(Serial)/(Serial1)/' $HOME/Arduino/libraries/tensorflow/src/tensorflow/lite/micro/arduino/debug_log.cpp\n",
    "!bin/arduino-cli compile -b arduino:mbed:nano33ble --output-dir binaries/magic_wand $HOME/Arduino/libraries/tensorflow/examples/magic_wand"
   ]
  },
  {
   "cell_type": "markdown",
   "metadata": {
    "cell_marker": "\"\"\",\"\"\""
   },
   "source": [
    "## Run a magic-wand example in Renode"
   ]
  },
  {
   "cell_type": "code",
   "execution_count": null,
   "metadata": {},
   "outputs": [],
   "source": [
    "import time\n",
    "from pyrenode import *\n",
    "shutdown_renode()\n",
    "connect_renode() # this sets up a log file, and clears the simulation (just in case)\n",
    "tell_renode('using sysbus')\n",
    "tell_renode('mach create')\n",
    "tell_renode('machine LoadPlatformDescription @/content/renode/platforms/boards/arduino_nano_33_ble.repl')\n",
    "tell_renode('sysbus LoadELF @/content/binaries/magic_wand/magic_wand.ino.elf')\n",
    "\n",
    "tell_renode('uart0 CreateFileBackend @uart.dump true')\n",
    "tell_renode('logLevel 3')\n",
    "tell_renode('machine EnableProfiler \"metrics.dump\"')\n",
    "tell_renode('sysbus.twi0.lsm9ds1_imu FeedAccelerationSample @/content/tensorflow-arduino-examples/examples/magic-wand/angle_rotated.data')\n",
    "tell_renode('s')\n",
    "time.sleep(5) #waits for creating uart.dump\n",
    "!timeout 60 tail -c+2 -f renode/uart.dump | sed '/\\* \\* \\* \\* \\* \\* \\* \\*/ q'\n",
    "tell_renode('q')\n",
    "expect_cli('Renode is quitting')\n",
    "shutdown_renode()"
   ]
  },
  {
   "cell_type": "markdown",
   "metadata": {
    "cell_marker": "\"\"\",\"\"\""
   },
   "source": [
    "## Renode metrics analysis"
   ]
  },
  {
   "cell_type": "code",
   "execution_count": null,
   "metadata": {},
   "outputs": [],
   "source": [
    "from renode.tools.metrics_analyzer.metrics_parser import MetricsParser\n",
    "init_notebook_mode(connected=False)\n",
    "parser = MetricsParser('renode/metrics.dump')"
   ]
  },
  {
   "cell_type": "code",
   "execution_count": null,
   "metadata": {},
   "outputs": [],
   "source": [
    "configure_plotly_browser_state()\n",
    "show_executed_instructions(parser)"
   ]
  },
  {
   "cell_type": "code",
   "execution_count": null,
   "metadata": {},
   "outputs": [],
   "source": [
    "configure_plotly_browser_state()\n",
    "show_memory_access(parser)"
   ]
  },
  {
   "cell_type": "code",
   "execution_count": null,
   "metadata": {},
   "outputs": [],
   "source": [
    "configure_plotly_browser_state()\n",
    "show_exceptions(parser)"
   ]
  },
  {
   "cell_type": "code",
   "execution_count": null,
   "metadata": {},
   "outputs": [],
   "source": [
    "configure_plotly_browser_state()\n",
    "show_peripheral_access(parser)"
   ]
  }
 ],
 "metadata": {
  "jupytext": {
   "cell_metadata_filter": "-all",
   "main_language": "python",
   "notebook_metadata_filter": "-all"
  }
 },
 "nbformat": 4,
 "nbformat_minor": 4
}
