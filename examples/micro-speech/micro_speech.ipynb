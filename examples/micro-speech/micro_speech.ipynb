{
 "cells": [
  {
   "cell_type": "markdown",
   "id": "add3dae9",
   "metadata": {
    "cell_marker": "\"\"\""
   },
   "source": [
    "![Renode](https://dl.antmicro.com/projects/renode/renode.png)\n",
    "<table align=\"left\">\n",
    "  <td>\n",
    "    <a target=\"_blank\" href=\"https://colab.research.google.com/github/antmicro/tensorflow-arduino-examples/blob/master/examples/micro-speech/micro_speech.ipynb\"><img src=\"https://raw.githubusercontent.com/antmicro/tensorflow-arduino-examples/master/examples/.static/view-in-colab.png\" />Run in Google Colab</a>\n",
    "  </td>\n",
    "  <td>\n",
    "    <a target=\"_blank\" href=\"https://github.com/antmicro/tensorflow-arduino-examples/blob/master/examples/micro-speech/micro_speech.ipynb\"><img src=\"https://raw.githubusercontent.com/antmicro/tensorflow-arduino-examples/master/examples/.static/view-ipynb.png\" />View ipynb on GitHub</a>\n",
    "  </td>\n",
    "  <td>\n",
    "    <a target=\"_blank\" href=\"https://github.com/antmicro/tensorflow-arduino-examples/blob/master/examples/micro-speech/micro_speech.py\"><img src=\"https://raw.githubusercontent.com/antmicro/tensorflow-arduino-examples/master/examples/.static/view-source.png\" />View Python source on GitHub</a>\n",
    "  </td>\n",
    "</table>"
   ]
  },
  {
   "cell_type": "markdown",
   "id": "bfcb21b0",
   "metadata": {
    "cell_marker": "\"\"\"",
    "lines_to_next_cell": 0
   },
   "source": [
    "## Install requirements"
   ]
  },
  {
   "cell_type": "code",
   "execution_count": null,
   "id": "3d9d8b39",
   "metadata": {},
   "outputs": [],
   "source": [
    "!pip install -q ffmpeg-python pyaudioconvert git+https://github.com/antmicro/pyrenode.git git+https://github.com/antmicro/renode-colab-tools.git\n",
    "!apt install -q xxd sox\n",
    "!mkdir -p renode && cd renode && wget https://dl.antmicro.com/projects/renode/builds/renode-latest.linux-portable.tar.gz && tar -xzf renode-latest.linux-portable.tar.gz --strip 1\n",
    "!pip install -q -r renode/tests/requirements.txt\n",
    "!wget -O binary_yes https://dl.antmicro.com/projects/renode/audio_yes_1s.s16le.pcm-s_32000-b69f5518615516f80ae0082fe9b5a5d29ffebce8\n",
    "!wget -O binary_no https://dl.antmicro.com/projects/renode/audio_no_1s.s16le.pcm-s_32000-f36b60d425c9d5414a38658dbd096313d82d28c5\n",
    "\n",
    "import os\n",
    "from renode_colab_tools import audio, metrics\n",
    "os.environ['PATH'] = os.getcwd()+\"/renode:\"+os.environ['PATH']\n",
    "os.environ['TENSORFLOW_PATH'] = os.getcwd()+\"/tensorflow-arduino-examples/tensorflow\""
   ]
  },
  {
   "cell_type": "code",
   "execution_count": null,
   "id": "363149f8",
   "metadata": {
    "lines_to_next_cell": 0
   },
   "outputs": [],
   "source": [
    "!mkdir -p binaries/micro_speech && cd binaries/micro_speech && wget https://github.com/antmicro/tensorflow-arduino-examples-binaries/raw/master/micro_speech/micro_speech.ino.elf # fetch prebuilt binaries"
   ]
  },
  {
   "cell_type": "markdown",
   "id": "33555f0c",
   "metadata": {
    "cell_marker": "\"\"\"",
    "lines_to_next_cell": 0
   },
   "source": [
    "## Get audio"
   ]
  },
  {
   "cell_type": "code",
   "execution_count": null,
   "id": "89569aea",
   "metadata": {},
   "outputs": [],
   "source": [
    "audio.audio_options()"
   ]
  },
  {
   "cell_type": "markdown",
   "id": "e8b46159",
   "metadata": {
    "cell_marker": "\"\"\"",
    "lines_to_next_cell": 0
   },
   "source": [
    "## Run a micro-speech example in Renode\n",
    "The command may not be recognized correctly due to https://github.com/tensorflow/tensorflow/pull/45878"
   ]
  },
  {
   "cell_type": "code",
   "execution_count": null,
   "id": "e73775e1",
   "metadata": {},
   "outputs": [],
   "source": [
    "import time\n",
    "from pyrenode import *\n",
    "shutdown_renode()\n",
    "connect_renode() # this sets up a log file, and clears the simulation (just in case)\n",
    "\n",
    "tell_renode('using sysbus')\n",
    "tell_renode('mach create')\n",
    "tell_renode('machine LoadPlatformDescription @platforms/boards/arduino_nano_33_ble.repl')\n",
    "tell_renode('sysbus LoadELF @binaries/micro_speech/micro_speech.ino.elf')\n",
    "\n",
    "tell_renode('logLevel 3')\n",
    "tell_renode('pdm SetInputFile @audio_bin')\n",
    "tell_renode('uart0 CreateFileBackend @uart.dump true')\n",
    "tell_renode('machine EnableProfiler @metrics.dump')\n",
    "tell_renode('s')\n",
    "while not os.path.exists('renode/uart.dump'):\n",
    "  time.sleep(1) #waits for creating uart.dump\n",
    "!timeout 60 tail -f renode/uart.dump | sed '/^.*Heard .*$/ q' | cut -c 2-\n",
    "tell_renode('q')\n",
    "expect_cli('Renode is quitting')\n",
    "time.sleep(1) #wait not to kill Renode forcefully\n",
    "shutdown_renode()"
   ]
  },
  {
   "cell_type": "markdown",
   "id": "f7b17150",
   "metadata": {
    "cell_marker": "\"\"\",\"\"\""
   },
   "source": [
    "## Renode metrics analysis"
   ]
  },
  {
   "cell_type": "code",
   "execution_count": null,
   "id": "8dc20718",
   "metadata": {},
   "outputs": [],
   "source": [
    "from renode.tools.metrics_analyzer.metrics_parser import MetricsParser\n",
    "metrics.init_notebook_mode(connected=False)\n",
    "parser = MetricsParser('renode/metrics.dump')"
   ]
  },
  {
   "cell_type": "code",
   "execution_count": null,
   "id": "72d75d8b",
   "metadata": {},
   "outputs": [],
   "source": [
    "metrics.configure_plotly_browser_state()\n",
    "metrics.show_executed_instructions(parser)"
   ]
  },
  {
   "cell_type": "code",
   "execution_count": null,
   "id": "d40bd19f",
   "metadata": {},
   "outputs": [],
   "source": [
    "metrics.configure_plotly_browser_state()\n",
    "metrics.show_memory_access(parser)"
   ]
  },
  {
   "cell_type": "code",
   "execution_count": null,
   "id": "b733184c",
   "metadata": {},
   "outputs": [],
   "source": [
    "metrics.configure_plotly_browser_state()\n",
    "metrics.show_peripheral_access(parser)"
   ]
  },
  {
   "cell_type": "code",
   "execution_count": null,
   "id": "08b6e210",
   "metadata": {},
   "outputs": [],
   "source": [
    "metrics.configure_plotly_browser_state()\n",
    "metrics.show_exceptions(parser)"
   ]
  }
 ],
 "metadata": {
  "jupytext": {
   "cell_metadata_filter": "-all",
   "main_language": "python",
   "notebook_metadata_filter": "-all"
  }
 },
 "nbformat": 4,
 "nbformat_minor": 5
}
