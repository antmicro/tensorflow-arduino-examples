{
 "cells": [
  {
   "cell_type": "markdown",
   "id": "superior-geology",
   "metadata": {
    "cell_marker": "\"\"\""
   },
   "source": [
    "![Renode](https://antmicro.com/OpenSource/assets/images/projects/renode.png)"
   ]
  },
  {
   "cell_type": "markdown",
   "id": "focused-yemen",
   "metadata": {
    "cell_marker": "\"\"\"",
    "lines_to_next_cell": 0
   },
   "source": [
    "## Install requirements"
   ]
  },
  {
   "cell_type": "code",
   "execution_count": null,
   "id": "municipal-singles",
   "metadata": {},
   "outputs": [],
   "source": [
    "!pip install -q ffmpeg-python pyaudioconvert git+https://github.com/antmicro/pyrenode.git git+https://github.com/antmicro/renode-colab-tools.git\n",
    "!apt install -q xxd sox\n",
    "!mkdir -p renode && cd renode && wget https://dl.antmicro.com/projects/renode/builds/renode-latest.linux-portable.tar.gz && tar -xzf renode-latest.linux-portable.tar.gz --strip 1\n",
    "!pip install -q -r renode/tests/requirements.txt\n",
    "!wget -O binary_yes https://dl.antmicro.com/projects/renode/audio_yes_1s.s16le.pcm-s_32000-b69f5518615516f80ae0082fe9b5a5d29ffebce8\n",
    "!wget -O binary_no https://dl.antmicro.com/projects/renode/audio_no_1s.s16le.pcm-s_32000-f36b60d425c9d5414a38658dbd096313d82d28c5\n",
    "\n",
    "import os\n",
    "from renode_colab_tools import audio, metrics\n",
    "os.environ['PATH'] = os.getcwd()+\"/renode:\"+os.environ['PATH']\n",
    "os.environ['TENSORFLOW_PATH'] = os.getcwd()+\"/tensorflow-arduino-examples/tensorflow\""
   ]
  },
  {
   "cell_type": "code",
   "execution_count": null,
   "id": "reasonable-genre",
   "metadata": {
    "lines_to_next_cell": 0
   },
   "outputs": [],
   "source": [
    "!git clone https://github.com/antmicro/tensorflow-arduino-examples.git \n",
    "!curl -fsSL https://raw.githubusercontent.com/arduino/arduino-cli/master/install.sh | sh\n",
    "!bin/arduino-cli core install arduino:mbed\n",
    "!mkdir -p $HOME/Arduino/libraries && cp -r $TENSORFLOW_PATH $HOME/Arduino/libraries\n",
    "!sed -i'' '/#define DEBUG_SERIAL_OBJECT/s/(Serial)/(Serial1)/' $HOME/Arduino/libraries/tensorflow/src/tensorflow/lite/micro/arduino/system_setup.cpp\n",
    "!bin/arduino-cli compile -b arduino:mbed:nano33ble --output-dir binaries/micro_speech $HOME/Arduino/libraries/tensorflow/examples/micro_speech"
   ]
  },
  {
   "cell_type": "markdown",
   "id": "adult-cloud",
   "metadata": {
    "cell_marker": "\"\"\"",
    "lines_to_next_cell": 0
   },
   "source": [
    "## Get audio"
   ]
  },
  {
   "cell_type": "code",
   "execution_count": null,
   "id": "proof-cleveland",
   "metadata": {},
   "outputs": [],
   "source": [
    "audio.audio_options()"
   ]
  },
  {
   "cell_type": "markdown",
   "id": "painful-stand",
   "metadata": {
    "cell_marker": "\"\"\"",
    "lines_to_next_cell": 0
   },
   "source": [
    "## Run a micro-speech example in Renode\n",
    "The command may not be recognized correctly due to https://github.com/tensorflow/tensorflow/pull/45878"
   ]
  },
  {
   "cell_type": "code",
   "execution_count": null,
   "id": "identical-genius",
   "metadata": {},
   "outputs": [],
   "source": [
    "import time\n",
    "from pyrenode import *\n",
    "shutdown_renode()\n",
    "connect_renode() # this sets up a log file, and clears the simulation (just in case)\n",
    "\n",
    "tell_renode('using sysbus')\n",
    "tell_renode('mach create')\n",
    "tell_renode('machine LoadPlatformDescription @platforms/boards/arduino_nano_33_ble.repl')\n",
    "tell_renode('sysbus LoadELF @binaries/micro_speech/micro_speech.ino.elf')\n",
    "\n",
    "tell_renode('logLevel 3')\n",
    "tell_renode('pdm SetInputFile @audio_bin')\n",
    "tell_renode('uart0 CreateFileBackend @uart.dump true')\n",
    "tell_renode('machine EnableProfiler @metrics.dump')\n",
    "tell_renode('s')\n",
    "while not os.path.exists('renode/uart.dump'):\n",
    "  time.sleep(1) #waits for creating uart.dump\n",
    "!timeout 60 tail -f renode/uart.dump | sed '/^.*Heard .*$/ q' | cut -c 2-\n",
    "tell_renode('q')\n",
    "expect_cli('Renode is quitting')\n",
    "shutdown_renode()"
   ]
  },
  {
   "cell_type": "markdown",
   "id": "linear-speed",
   "metadata": {
    "cell_marker": "\"\"\",\"\"\""
   },
   "source": [
    "## Renode metrics analysis"
   ]
  },
  {
   "cell_type": "code",
   "execution_count": null,
   "id": "accurate-garage",
   "metadata": {},
   "outputs": [],
   "source": [
    "from renode.tools.metrics_analyzer.metrics_parser import MetricsParser\n",
    "metrics.init_notebook_mode(connected=False)\n",
    "parser = MetricsParser('renode/metrics.dump')"
   ]
  },
  {
   "cell_type": "code",
   "execution_count": null,
   "id": "processed-criterion",
   "metadata": {},
   "outputs": [],
   "source": [
    "metrics.configure_plotly_browser_state()\n",
    "metrics.show_executed_instructions(parser)"
   ]
  },
  {
   "cell_type": "code",
   "execution_count": null,
   "id": "bearing-robertson",
   "metadata": {},
   "outputs": [],
   "source": [
    "metrics.configure_plotly_browser_state()\n",
    "metrics.show_memory_access(parser)"
   ]
  },
  {
   "cell_type": "code",
   "execution_count": null,
   "id": "interior-dance",
   "metadata": {},
   "outputs": [],
   "source": [
    "metrics.configure_plotly_browser_state()\n",
    "metrics.show_peripheral_access(parser)"
   ]
  },
  {
   "cell_type": "code",
   "execution_count": null,
   "id": "warming-optimization",
   "metadata": {},
   "outputs": [],
   "source": [
    "metrics.configure_plotly_browser_state()\n",
    "metrics.show_exceptions(parser)"
   ]
  }
 ],
 "metadata": {
  "jupytext": {
   "cell_metadata_filter": "-all",
   "main_language": "python",
   "notebook_metadata_filter": "-all"
  }
 },
 "nbformat": 4,
 "nbformat_minor": 5
}
